{
 "cells": [
  {
   "cell_type": "code",
   "execution_count": 3,
   "metadata": {
    "collapsed": true
   },
   "outputs": [],
   "source": [
    "from NPLearner import NPLearner\n",
    "from NPLearner import default_feature_func\n",
    "\n",
    "import nltk\n",
    "\n",
    "from nltk.classify import SklearnClassifier\n",
    "from nltk.classify import MaxentClassifier, \\\n",
    "                        ConditionalExponentialClassifier,\\\n",
    "                        DecisionTreeClassifier, \\\n",
    "                        NaiveBayesClassifier, \\\n",
    "                        WekaClassifier\n",
    "import numpy as np\n",
    "import pandas as pd\n",
    "\n",
    "PTB = \"treebank/\"\n"
   ]
  },
  {
   "cell_type": "code",
   "execution_count": 4,
   "metadata": {
    "collapsed": true
   },
   "outputs": [],
   "source": [
    "# defining experiments\n",
    "\n",
    "subjects = {\"Decision Tree Classifier\": DecisionTreeClassifier,\n",
    "            \"Maximum Entorpy Classifier\": MaxentClassifier,\n",
    "            \"Naive Bayes Classifier\": NaiveBayesClassifier,\n",
    "            \"Weka Classifier\": WekaClassifier,\n",
    "            \"Conditional Exponential Classifier\": ConditionalExponentialClassifier}\n"
   ]
  },
  {
   "cell_type": "code",
   "execution_count": null,
   "metadata": {
    "collapsed": false
   },
   "outputs": [
    {
     "name": "stdout",
     "output_type": "stream",
     "text": [
      "---------- TRAINING ----------\n",
      "Training Decision Tree Classifier...\n",
      "Finished.\n",
      "\n",
      "Training Maximum Entorpy Classifier...\n",
      "  ==> Training (100 iterations)\n",
      "\n",
      "      Iteration    Log Likelihood    Accuracy\n",
      "      ---------------------------------------\n",
      "             1          -1.09861        0.561\n",
      "             2          -0.38290        0.835\n",
      "             3          -0.30471        0.869\n",
      "             4          -0.26909        0.888\n",
      "             5          -0.24682        0.899\n",
      "             6          -0.23077        0.907\n",
      "             7          -0.21829        0.914\n",
      "             8          -0.20811        0.919\n",
      "             9          -0.19953        0.924\n",
      "            10          -0.19215        0.928\n",
      "            11          -0.18569        0.931\n",
      "            12          -0.17997        0.934\n",
      "            13          -0.17485        0.937\n",
      "            14          -0.17022        0.939\n",
      "            15          -0.16602        0.940\n",
      "            16          -0.16218        0.942\n",
      "            17          -0.15865        0.943\n",
      "            18          -0.15539        0.944\n",
      "            19          -0.15237        0.945\n",
      "            20          -0.14956        0.946\n",
      "            21          -0.14693        0.947\n",
      "            22          -0.14448        0.948\n",
      "            23          -0.14218        0.949\n",
      "            24          -0.14001        0.949\n",
      "            25          -0.13797        0.950\n",
      "            26          -0.13604        0.950\n",
      "            27          -0.13421        0.951\n",
      "            28          -0.13248        0.951\n",
      "            29          -0.13083        0.952\n",
      "            30          -0.12926        0.952\n",
      "            31          -0.12777        0.953\n",
      "            32          -0.12635        0.953\n",
      "            33          -0.12498        0.953\n",
      "            34          -0.12368        0.953\n",
      "            35          -0.12243        0.954\n",
      "            36          -0.12124        0.954\n",
      "            37          -0.12009        0.954\n",
      "            38          -0.11899        0.954\n",
      "            39          -0.11793        0.955\n",
      "            40          -0.11691        0.955\n"
     ]
    }
   ],
   "source": [
    "# Max = 100 iterations\n",
    "experiment = NPLearner(PTB, subjects, default_feature_func, verbose=True, max_iter=100)\n",
    "\n",
    "experiment.fit()\n",
    "\n",
    "experiment.predict()\n",
    "\n",
    "metrics = experiment.evaluate()"
   ]
  },
  {
   "cell_type": "code",
   "execution_count": null,
   "metadata": {
    "collapsed": true
   },
   "outputs": [],
   "source": []
  }
 ],
 "metadata": {
  "kernelspec": {
   "display_name": "Python 3",
   "language": "python",
   "name": "python3"
  },
  "language_info": {
   "codemirror_mode": {
    "name": "ipython",
    "version": 3
   },
   "file_extension": ".py",
   "mimetype": "text/x-python",
   "name": "python",
   "nbconvert_exporter": "python",
   "pygments_lexer": "ipython3",
   "version": "3.6.0"
  }
 },
 "nbformat": 4,
 "nbformat_minor": 2
}
