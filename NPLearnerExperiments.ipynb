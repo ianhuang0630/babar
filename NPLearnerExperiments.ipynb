{
 "cells": [
  {
   "cell_type": "code",
   "execution_count": 3,
   "metadata": {
    "collapsed": true
   },
   "outputs": [],
   "source": [
    "from NPLearner import NPLearner\n",
    "from NPLearner import default_feature_func\n",
    "\n",
    "import nltk\n",
    "\n",
    "from nltk.classify import SklearnClassifier\n",
    "from nltk.classify import MaxentClassifier, \\\n",
    "                        ConditionalExponentialClassifier,\\\n",
    "                        DecisionTreeClassifier, \\\n",
    "                        NaiveBayesClassifier, \\\n",
    "                        WekaClassifier\n",
    "import numpy as np\n",
    "import pandas as pd\n",
    "\n",
    "PTB = \"treebank/\"\n"
   ]
  },
  {
   "cell_type": "code",
   "execution_count": 4,
   "metadata": {
    "collapsed": true
   },
   "outputs": [],
   "source": [
    "# defining experiments\n",
    "\n",
    "subjects = {\"Decision Tree Classifier\": DecisionTreeClassifier,\n",
    "            \"Maximum Entorpy Classifier\": MaxentClassifier,\n",
    "            \"Naive Bayes Classifier\": NaiveBayesClassifier,\n",
    "            \"Weka Classifier\": WekaClassifier,\n",
    "            \"Conditional Exponential Classifier\": ConditionalExponentialClassifier}\n"
   ]
  },
  {
   "cell_type": "code",
   "execution_count": null,
   "metadata": {
    "collapsed": false
   },
   "outputs": [
    {
     "name": "stdout",
     "output_type": "stream",
     "text": [
      "---------- TRAINING ----------\n",
      "Training Decision Tree Classifier...\n",
      "Finished.\n",
      "\n",
      "Training Maximum Entorpy Classifier...\n",
      "  ==> Training (100 iterations)\n",
      "\n",
      "      Iteration    Log Likelihood    Accuracy\n",
      "      ---------------------------------------\n",
      "             1          -1.09861        0.561\n",
      "             2          -0.38290        0.835\n",
      "             3          -0.30471        0.869\n",
      "             4          -0.26909        0.888\n",
      "             5          -0.24682        0.899\n",
      "             6          -0.23077        0.907\n",
      "             7          -0.21829        0.914\n"
     ]
    }
   ],
   "source": [
    "# Max = 100 iterations\n",
    "experiment = NPLearner(PTB, subjects, default_feature_func, verbose=True, max_iter=100)\n",
    "\n",
    "experiment.fit()\n",
    "\n",
    "experiment.predict()\n",
    "\n",
    "metrics = experiment.evaluate()"
   ]
  },
  {
   "cell_type": "code",
   "execution_count": null,
   "metadata": {
    "collapsed": true
   },
   "outputs": [],
   "source": []
  }
 ],
 "metadata": {
  "kernelspec": {
   "display_name": "Python 3",
   "language": "python",
   "name": "python3"
  },
  "language_info": {
   "codemirror_mode": {
    "name": "ipython",
    "version": 3
   },
   "file_extension": ".py",
   "mimetype": "text/x-python",
   "name": "python",
   "nbconvert_exporter": "python",
   "pygments_lexer": "ipython3",
   "version": "3.6.0"
  }
 },
 "nbformat": 4,
 "nbformat_minor": 2
}
